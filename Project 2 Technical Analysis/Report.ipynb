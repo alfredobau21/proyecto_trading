{
 "cells": [
  {
   "metadata": {},
   "cell_type": "markdown",
   "source": [
    "# Porject Overview: Technical Analysis in Trading\n",
    "In this project, we present our analysis based on the instructions provided in the README file. First, let's understand what technical analysis is. Technical analysis is a method used to evaluate and predict the future price movements of financial assets based on historical price and volume data. It involves using various charts and statistical indicators to identify patterns and trends that can inform trading decisions. Unlike fundamental analysis, which focuses on a company's financial health and economic factors, technical analysis purely looks at price action and market behavior to make predictions.\n",
    " \n",
    "In this project we used 5 different technical indicators to see which one will perform better.\n",
    "\n",
    "\n",
    "\n",
    "### Relative Strenght Index (RSI)\n",
    "\n",
    "The RSI is a momentum oscillator that measures the speed and change of price movements. It oscillates between 0 and 100 and is typically used to identify overbought or oversold conditions in a market. A value above 70 indicates that the asset might be overbought, while a value below 30 suggests it might be oversold.\n",
    "\n",
    "### Simple Moving Average (SMA)\n",
    "\n",
    "The SMA is a commonly used indicator that smooths out price data by creating a constantly updated average price. The average is calculated over a specific number of periods. For example, a 50-day SMA is the average price of the asset over the last 50 days. It helps to identify the direction of the trend and smooth out price fluctuations.\n",
    "\n",
    "### Moving Average Convergence Divergence (MACD)\n",
    "\n",
    "The MACD is a trend-following momentum indicator that shows the relationship between two moving averages of an asset’s price. It is calculated by subtracting the 26-period EMA (exponential moving average) from the 12-period EMA. The result of that calculation is the MACD line. A nine-day EMA of the MACD called the \"signal line\" is then plotted on top of the MACD line, which can function as a trigger for buy and sell signals.\n",
    "\n",
    "### Stochastic Oscillator\n",
    "\n",
    "The Stochastic Oscillator is a momentum indicator that compares a particular closing price of an asset to a range of its prices over a certain period of time. It oscillates between 0 and 100. The theory behind this indicator is that in an upward-trending market, prices tend to close near their high, and in a downward-trending market, prices tend to close near their low.\n",
    "\n",
    "### Parabolic SAR (Stop and Reverse)\n",
    "\n",
    "The Parabolic SAR is used to determine the direction of an asset's price and to place stop-loss orders. It appears on a chart as a series of dots placed either above or below the price bars. A dot below the price is considered a bullish signal, while a dot above the price is considered a bearish signal.\n",
    "\n",
    "### Strategy Optimization and Execution\n",
    "\n",
    "The code in this project aims to find the best combination of the above indicators along with their optimal hyperparameters to achieve the highest possible return. We will be using 8 different datasets (since each timeframe has train and test dataset) for this purpose:\n",
    "\n",
    "- Apple stock data with 1-minute intervals\n",
    "- Apple stock data with 5-minute intervals\n",
    "- Bitcoin data with 1-minute intervals\n",
    "- Bitcoin data with 5-minute intervals\n",
    "\n",
    "By analyzing these datasets, the code will search through various combinations of indicators and their respective settings. It will test different values for the number of shares, take profit, and stop loss levels to determine the most profitable trading strategy. The goal is to identify the optimal setup that maximizes returns while managing risk effectively.\n"
   ],
   "id": "d9acfa7dc67ae59f"
  },
  {
   "metadata": {},
   "cell_type": "markdown",
   "source": "## Apple stock with 1 minute intervals",
   "id": "3ad7c309c1a3b124"
  },
  {
   "metadata": {
    "ExecuteTime": {
     "end_time": "2024-06-09T21:17:39.324701Z",
     "start_time": "2024-06-09T21:17:39.314818Z"
    }
   },
   "cell_type": "code",
   "source": "",
   "id": "4ac5b5d9ce8906a0",
   "outputs": [],
   "execution_count": 5
  },
  {
   "metadata": {},
   "cell_type": "markdown",
   "source": "Let's run all combinations of indicators.",
   "id": "7269976dfabc36e0"
  },
  {
   "metadata": {},
   "cell_type": "markdown",
   "source": "## Apple stock with 5 minute intervals",
   "id": "81172be8da780c5"
  },
  {
   "metadata": {},
   "cell_type": "markdown",
   "source": "Let's run all combinations of indicators.",
   "id": "8981be32665e3401"
  },
  {
   "metadata": {
    "ExecuteTime": {
     "end_time": "2024-06-09T21:31:32.252838Z",
     "start_time": "2024-06-09T21:28:38.639547Z"
    }
   },
   "cell_type": "code",
   "source": [
    "from TA import Operation, TradingStrategy\n",
    "strategy = TradingStrategy('A5')\n",
    "strategy.run_combinations()"
   ],
   "id": "f2400ed23df0a68e",
   "outputs": [
    {
     "name": "stdout",
     "output_type": "stream",
     "text": [
      "Using indicators: ['RSI']\n",
      "Using indicators: ['SMA']\n",
      "Using indicators: ['MACD']\n",
      "Using indicators: ['SAR']\n",
      "Using indicators: ['Stoch']\n",
      "Using indicators: ['RSI', 'SMA']\n",
      "Using indicators: ['RSI', 'MACD']\n",
      "Using indicators: ['RSI', 'SAR']\n",
      "Using indicators: ['RSI', 'Stoch']\n",
      "Using indicators: ['SMA', 'MACD']\n",
      "Using indicators: ['SMA', 'SAR']\n",
      "Using indicators: ['SMA', 'Stoch']\n",
      "Using indicators: ['MACD', 'SAR']\n",
      "Using indicators: ['MACD', 'Stoch']\n",
      "Using indicators: ['SAR', 'Stoch']\n",
      "Using indicators: ['RSI', 'SMA', 'MACD']\n",
      "Using indicators: ['RSI', 'SMA', 'SAR']\n",
      "Using indicators: ['RSI', 'SMA', 'Stoch']\n",
      "Using indicators: ['RSI', 'MACD', 'SAR']\n",
      "Using indicators: ['RSI', 'MACD', 'Stoch']\n",
      "Using indicators: ['RSI', 'SAR', 'Stoch']\n",
      "Using indicators: ['SMA', 'MACD', 'SAR']\n",
      "Using indicators: ['SMA', 'MACD', 'Stoch']\n",
      "Using indicators: ['SMA', 'SAR', 'Stoch']\n",
      "Using indicators: ['MACD', 'SAR', 'Stoch']\n",
      "Using indicators: ['RSI', 'SMA', 'MACD', 'SAR']\n",
      "Using indicators: ['RSI', 'SMA', 'MACD', 'Stoch']\n",
      "Using indicators: ['RSI', 'SMA', 'SAR', 'Stoch']\n",
      "Using indicators: ['RSI', 'MACD', 'SAR', 'Stoch']\n",
      "Using indicators: ['SMA', 'MACD', 'SAR', 'Stoch']\n",
      "Using indicators: ['RSI', 'SMA', 'MACD', 'SAR', 'Stoch']\n",
      "Best combination of indicators: ['RSI', 'SMA'] with a value of: 1000000\n"
     ]
    }
   ],
   "execution_count": 8
  },
  {
   "metadata": {},
   "cell_type": "markdown",
   "source": "Now we backtest the best strategy.",
   "id": "6550d6471e1d6440"
  },
  {
   "metadata": {},
   "cell_type": "code",
   "outputs": [],
   "execution_count": null,
   "source": "strategy.plot_results(best = True)",
   "id": "ed6fb9b3eaa8ceaa"
  },
  {
   "metadata": {},
   "cell_type": "markdown",
   "source": "Let's see the best strategy in the Test dataset. (without optimization)",
   "id": "bde977ce78479f4b"
  },
  {
   "metadata": {},
   "cell_type": "code",
   "outputs": [],
   "execution_count": null,
   "source": "strategy.test()",
   "id": "7a2fa54de7760f3"
  },
  {
   "metadata": {},
   "cell_type": "code",
   "outputs": [],
   "execution_count": null,
   "source": "strategy.strategy_value[-1]",
   "id": "a43c93f3220d2779"
  },
  {
   "metadata": {},
   "cell_type": "markdown",
   "source": "Now we **optimize** parameters for the best combination of indicators.",
   "id": "39590b13a569e21e"
  },
  {
   "metadata": {},
   "cell_type": "code",
   "outputs": [],
   "execution_count": null,
   "source": "",
   "id": "a394a1bcdc851420"
  },
  {
   "metadata": {},
   "cell_type": "markdown",
   "source": "We backtest the best strategy, with optimized parameters.",
   "id": "6eb1f125f52cb75d"
  },
  {
   "metadata": {},
   "cell_type": "code",
   "outputs": [],
   "execution_count": null,
   "source": "",
   "id": "7e320424f04dd842"
  },
  {
   "metadata": {},
   "cell_type": "code",
   "outputs": [],
   "execution_count": null,
   "source": "",
   "id": "120479eaf30dbeab"
  },
  {
   "metadata": {},
   "cell_type": "markdown",
   "source": "We try the best indicators and best parameters in the Test dataset.",
   "id": "aaee4860e286bbbd"
  },
  {
   "metadata": {},
   "cell_type": "code",
   "outputs": [],
   "execution_count": null,
   "source": "",
   "id": "84130ceb7641aa95"
  },
  {
   "metadata": {},
   "cell_type": "markdown",
   "source": "Final Value",
   "id": "d8063706e7ca6568"
  }
 ],
 "metadata": {
  "kernelspec": {
   "display_name": "Python 3",
   "language": "python",
   "name": "python3"
  },
  "language_info": {
   "codemirror_mode": {
    "name": "ipython",
    "version": 2
   },
   "file_extension": ".py",
   "mimetype": "text/x-python",
   "name": "python",
   "nbconvert_exporter": "python",
   "pygments_lexer": "ipython2",
   "version": "2.7.6"
  }
 },
 "nbformat": 4,
 "nbformat_minor": 5
}
