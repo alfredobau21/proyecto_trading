{
 "cells": [
  {
   "cell_type": "markdown",
   "id": "d9acfa7dc67ae59f",
   "metadata": {},
   "source": [
    "# Porject Overview: Technical Analysis in Trading\n",
    "In this project, we present our analysis based on the instructions provided in the README file. First, let's understand what technical analysis is. Technical analysis is a method used to evaluate and predict the future price movements of financial assets based on historical price and volume data. It involves using various charts and statistical indicators to identify patterns and trends that can inform trading decisions. Unlike fundamental analysis, which focuses on a company's financial health and economic factors, technical analysis purely looks at price action and market behavior to make predictions.\n",
    " \n",
    "In this project we used 5 different technical indicators to see which one will perform better.\n",
    "\n",
    "\n",
    "\n",
    "### Relative Strenght Index (RSI)\n",
    "\n",
    "The RSI is a momentum oscillator that measures the speed and change of price movements. It oscillates between 0 and 100 and is typically used to identify overbought or oversold conditions in a market. A value above 70 indicates that the asset might be overbought, while a value below 30 suggests it might be oversold.\n",
    "\n",
    "### Simple Moving Average (SMA)\n",
    "\n",
    "The SMA is a commonly used indicator that smooths out price data by creating a constantly updated average price. The average is calculated over a specific number of periods. For example, a 50-day SMA is the average price of the asset over the last 50 days. It helps to identify the direction of the trend and smooth out price fluctuations.\n",
    "\n",
    "### Moving Average Convergence Divergence (MACD)\n",
    "\n",
    "The MACD is a trend-following momentum indicator that shows the relationship between two moving averages of an asset’s price. It is calculated by subtracting the 26-period EMA (exponential moving average) from the 12-period EMA. The result of that calculation is the MACD line. A nine-day EMA of the MACD called the \"signal line\" is then plotted on top of the MACD line, which can function as a trigger for buy and sell signals.\n",
    "\n",
    "### Stochastic Oscillator\n",
    "\n",
    "The Stochastic Oscillator is a momentum indicator that compares a particular closing price of an asset to a range of its prices over a certain period of time. It oscillates between 0 and 100. The theory behind this indicator is that in an upward-trending market, prices tend to close near their high, and in a downward-trending market, prices tend to close near their low.\n",
    "\n",
    "### Parabolic SAR (Stop and Reverse)\n",
    "\n",
    "The Parabolic SAR is used to determine the direction of an asset's price and to place stop-loss orders. It appears on a chart as a series of dots placed either above or below the price bars. A dot below the price is considered a bullish signal, while a dot above the price is considered a bearish signal.\n",
    "\n",
    "### Strategy Optimization and Execution\n",
    "\n",
    "The code in this project aims to find the best combination of the above indicators along with their optimal hyperparameters to achieve the highest possible return. We will be using 8 different datasets (since each timeframe has train and test dataset) for this purpose:\n",
    "\n",
    "- Apple stock data with 1-minute intervals\n",
    "- Apple stock data with 5-minute intervals\n",
    "- Bitcoin data with 1-minute intervals\n",
    "- Bitcoin data with 5-minute intervals\n",
    "\n",
    "By analyzing these datasets, the code will search through various combinations of indicators and their respective settings. It will test different values for the number of shares, take profit, and stop loss levels to determine the most profitable trading strategy. The goal is to identify the optimal setup that maximizes returns while managing risk effectively.\n"
   ]
  },
  {
   "cell_type": "markdown",
   "id": "3ad7c309c1a3b124",
   "metadata": {},
   "source": [
    "## Apple stock with 1 minute intervals"
   ]
  },
  {
   "cell_type": "markdown",
   "id": "ba67aea0a974beb4",
   "metadata": {},
   "source": [
    "Let's run all combinations of indicators."
   ]
  },
  {
   "cell_type": "code",
   "execution_count": 13,
   "id": "4ac5b5d9ce8906a0",
   "metadata": {
    "ExecuteTime": {
     "end_time": "2024-06-10T01:23:34.251338Z",
     "start_time": "2024-06-09T22:54:27.596671Z"
    }
   },
   "source": [
    "from TA import Operation, TradingStrategy\n",
    "strategy = TradingStrategy('A1')\n",
    "strategy.run_combinations()"
   ],
   "outputs": []
  },
  {
   "cell_type": "markdown",
   "id": "1e84f2cb211174ac",
   "metadata": {},
   "source": [
    "Now we backtest the best strategy."
   ]
  },
  {
   "cell_type": "code",
   "execution_count": 14,
   "id": "ed196d1cde367cb3",
   "metadata": {
    "ExecuteTime": {
     "end_time": "2024-06-10T01:46:30.157029Z",
     "start_time": "2024-06-10T01:25:20.784377Z"
    }
   },
   "source": [
    "strategy.plot_results(best = True)"
   ],
   "outputs": []
  },
  {
   "cell_type": "markdown",
   "id": "6d1fc4df20c07e05",
   "metadata": {},
   "source": [
    "Let's see the best strategy in the Test dataset. (without optimization)"
   ]
  },
  {
   "cell_type": "code",
   "execution_count": 15,
   "id": "c6216713ad5f2e95",
   "metadata": {
    "ExecuteTime": {
     "end_time": "2024-06-10T02:35:35.627811Z",
     "start_time": "2024-06-10T01:46:44.151075Z"
    }
   },
   "source": [
    "strategy.test()"
   ],
   "outputs": []
  },
  {
   "cell_type": "code",
   "execution_count": 16,
   "id": "a9e46669a0734bf2",
   "metadata": {
    "ExecuteTime": {
     "end_time": "2024-06-10T02:35:35.653035Z",
     "start_time": "2024-06-10T02:35:35.629819Z"
    }
   },
   "source": [
    "strategy.strategy_value[-1]"
   ],
   "outputs": []
  },
  {
   "cell_type": "markdown",
   "id": "7269976dfabc36e0",
   "metadata": {},
   "source": [
    "Now we optimize parameters for the best combination of indicators."
   ]
  },
  {
   "cell_type": "code",
   "execution_count": 17,
   "id": "df3ecd1630e847d8",
   "metadata": {
    "ExecuteTime": {
     "end_time": "2024-06-10T02:58:00.935941Z",
     "start_time": "2024-06-10T02:35:35.653035Z"
    }
   },
   "source": [
    "strategy.optimize_parameters()"
   ],
   "outputs": []
  },
  {
   "cell_type": "markdown",
   "id": "e61752f7de91548e",
   "metadata": {},
   "source": [
    "We backtest the best strategy, with optimized parameters."
   ]
  },
  {
   "cell_type": "code",
   "execution_count": 18,
   "id": "bfc316c416fe1d10",
   "metadata": {
    "ExecuteTime": {
     "end_time": "2024-06-10T03:00:17.646139Z",
     "start_time": "2024-06-10T02:58:00.935941Z"
    }
   },
   "source": [
    "strategy.plot_results(best = True)"
   ],
   "outputs": []
  },
  {
   "cell_type": "code",
   "execution_count": 19,
   "id": "576a7afc20a046d8",
   "metadata": {
    "ExecuteTime": {
     "end_time": "2024-06-10T03:00:17.655499Z",
     "start_time": "2024-06-10T03:00:17.646139Z"
    }
   },
   "source": [
    "strategy.strategy_value[-1]"
   ],
   "outputs": []
  },
  {
   "cell_type": "markdown",
   "id": "19e12d9c60b14740",
   "metadata": {},
   "source": [
    "We try the best indicators and best parameters in the Test dataset."
   ]
  },
  {
   "cell_type": "code",
   "execution_count": 20,
   "id": "a71e22fd327c3c27",
   "metadata": {
    "ExecuteTime": {
     "end_time": "2024-06-10T03:24:24.620979Z",
     "start_time": "2024-06-10T03:00:17.655499Z"
    }
   },
   "source": [
    "strategy.test()"
   ],
   "outputs": []
  },
  {
   "cell_type": "markdown",
   "id": "11d45972bfef005f",
   "metadata": {},
   "source": [
    "Final Value"
   ]
  },
  {
   "cell_type": "code",
   "execution_count": 21,
   "id": "d80d62f6433d56bb",
   "metadata": {
    "ExecuteTime": {
     "end_time": "2024-06-10T03:24:24.629286Z",
     "start_time": "2024-06-10T03:24:24.620979Z"
    }
   },
   "source": [
    "strategy.strategy_value[-1]"
   ],
   "outputs": []
  },
  {
   "cell_type": "markdown",
   "id": "f67a88856bf03e34",
   "metadata": {},
   "source": [
    "#### Trading Strategy vs Passive Strategy"
   ]
  },
  {
   "cell_type": "code",
   "execution_count": 38,
   "id": "11d1d82836c15483",
   "metadata": {
    "ExecuteTime": {
     "end_time": "2024-06-10T03:41:20.568289Z",
     "start_time": "2024-06-10T03:41:19.832010Z"
    }
   },
   "source": [
    "import pandas as pd\n",
    "import matplotlib.pyplot as plt\n",
    "\n",
    "data = pd.read_csv('data/aapl_project_1m_test.csv')\n",
    "\n",
    "# Turn date into datetime\n",
    "data['Datetime'] = pd.to_datetime(data['Datetime'])\n",
    "\n",
    "# Get first and last close data\n",
    "primer_cierre = data.iloc[0]['Close']\n",
    "ultimo_cierre = data.iloc[-1]['Close']\n",
    "\n",
    "# Get asset yeild\n",
    "rend_pasivo = (ultimo_cierre - primer_cierre) / primer_cierre\n",
    "print(\"The passive asset return is: {:.2%}\".format(rend_pasivo))\n",
    "\n",
    "# Compare with used strategy\n",
    "cash=1000000\n",
    "cashfinal = 1931055.3570\n",
    "rend_estrategia = (cashfinal - cash) / cash\n",
    "print(\"The trading strategy return is: {:.2%}\".format(rend_estrategia))\n",
    "\n",
    "# Sort data\n",
    "data = data.sort_values(by='Datetime')\n",
    "\n",
    "# Rend\n",
    "data['Returns'] = data['Close'].pct_change().fillna(0)\n",
    "\n",
    "# See the value passive\n",
    "initial_investment = cash\n",
    "data['Investment_Value'] = (1 + data['Returns']).cumprod() * initial_investment\n",
    "\n",
    "# Graficar el rendimiento de la inversión\n",
    "plt.figure(figsize=(12, 8))\n",
    "plt.plot(data['Datetime'], data['Investment_Value'], label='Investment Value', color='blue')\n",
    "plt.title('Passive strategy')\n",
    "plt.xlabel('Date')\n",
    "plt.ylabel('Investment Value')\n",
    "plt.legend()\n",
    "plt.grid(True)\n",
    "plt.show()\n",
    "\n",
    "valor_final = data['Investment_Value'].iloc[-1]\n",
    "print(\"The final value of the investment: ${:,.2f}\".format(valor_final))"
   ],
   "outputs": []
  },
  {
   "cell_type": "markdown",
   "id": "6c152440be3fddaa",
   "metadata": {},
   "source": [
    "#### Analysis Apple stock 1 minute intervals"
   ]
  },
  {
   "cell_type": "markdown",
   "id": "28063aa2",
   "metadata": {},
   "source": [
    "As we can see on our first try the code did a great job using a trading strategy with the Stochastic Oscillator with specific hyperparameters: a %K window of 16, a %D window of 5, and a smoothing factor of 7, in Apple Inc. stock data with 1-minute intervals.\n",
    "\n",
    "The results were remarkable: our active trading strategy achieved a return of 93.11%, compared to a significant loss of -9.95% from a passive investment approach over the same period. This stark contrast underscores the effectiveness of using technical analysis and active trading strategies, particularly in volatile market conditions.\n",
    "\n",
    "Several key factors contributed to the superior performance of our strategy:\n",
    "\n",
    "- Market Timing: Active trading strategies allow investors to time the market more effectively. By analyzing the Stochastic Oscillator, our strategy was able to enter and exit positions at optimal points, avoiding prolonged exposure to adverse market conditions that a passive strategy might endure.\n",
    "\n",
    "- Adaptability to Market Conditions: Unlike passive strategies, which are rigid and do not change based on market conditions, our active strategy could adapt to different market environments. This flexibility enabled us to capitalize on both upward and downward price movements, enhancing overall returns.\n",
    "\n",
    "- Leverage of Short-Term Volatility: The 1-minute interval data provided numerous opportunities to exploit short-term volatility. Our strategy could make multiple trades within a single day, accumulating small gains that contributed significantly to the overall return. This approach is particularly advantageous in markets with frequent price fluctuations."
   ]
  },
  {
   "cell_type": "markdown",
   "id": "81172be8da780c5",
   "metadata": {},
   "source": [
    "\n",
    "\n",
    "## Apple stock with 5 minute intervals"
   ]
  },
  {
   "cell_type": "markdown",
   "id": "8981be32665e3401",
   "metadata": {},
   "source": [
    "Let's run all combinations of indicators."
   ]
  },
  {
   "cell_type": "code",
   "execution_count": 1,
   "id": "f2400ed23df0a68e",
   "metadata": {
    "ExecuteTime": {
     "end_time": "2024-06-09T21:43:21.880863Z",
     "start_time": "2024-06-09T21:40:06.738955Z"
    }
   },
   "source": [
    "from TA import Operation, TradingStrategy\n",
    "strategy = TradingStrategy('A5')\n",
    "strategy.run_combinations()"
   ],
   "outputs": []
  },
  {
   "cell_type": "markdown",
   "id": "6550d6471e1d6440",
   "metadata": {},
   "source": [
    "Now we backtest the best strategy."
   ]
  },
  {
   "cell_type": "code",
   "execution_count": 2,
   "id": "ed6fb9b3eaa8ceaa",
   "metadata": {
    "ExecuteTime": {
     "end_time": "2024-06-09T21:46:19.870550Z",
     "start_time": "2024-06-09T21:45:52.588374Z"
    }
   },
   "source": [
    "strategy.plot_results(best = True)"
   ],
   "outputs": []
  },
  {
   "cell_type": "markdown",
   "id": "bde977ce78479f4b",
   "metadata": {},
   "source": [
    "Let's see the best strategy in the Test dataset. (without optimization)"
   ]
  },
  {
   "cell_type": "code",
   "execution_count": 3,
   "id": "7a2fa54de7760f3",
   "metadata": {
    "ExecuteTime": {
     "end_time": "2024-06-09T21:52:17.597207Z",
     "start_time": "2024-06-09T21:51:42.093385Z"
    }
   },
   "source": [
    "strategy.test()"
   ],
   "outputs": []
  },
  {
   "cell_type": "code",
   "execution_count": 4,
   "id": "a43c93f3220d2779",
   "metadata": {
    "ExecuteTime": {
     "end_time": "2024-06-09T21:52:26.270196Z",
     "start_time": "2024-06-09T21:52:26.266346Z"
    }
   },
   "source": [
    "strategy.strategy_value[-1]"
   ],
   "outputs": []
  },
  {
   "cell_type": "markdown",
   "id": "39590b13a569e21e",
   "metadata": {},
   "source": [
    "Now we **optimize** parameters for the best combination of indicators."
   ]
  },
  {
   "cell_type": "code",
   "execution_count": 5,
   "id": "a394a1bcdc851420",
   "metadata": {
    "ExecuteTime": {
     "end_time": "2024-06-09T21:54:44.348807Z",
     "start_time": "2024-06-09T21:53:40.042192Z"
    }
   },
   "source": [
    "strategy.optimize_parameters()"
   ],
   "outputs": []
  },
  {
   "cell_type": "markdown",
   "id": "6eb1f125f52cb75d",
   "metadata": {},
   "source": [
    "We backtest the best strategy, with optimized parameters."
   ]
  },
  {
   "cell_type": "code",
   "execution_count": 6,
   "id": "7e320424f04dd842",
   "metadata": {
    "ExecuteTime": {
     "end_time": "2024-06-09T21:55:08.493804Z",
     "start_time": "2024-06-09T21:55:07.736951Z"
    }
   },
   "source": [
    "strategy.plot_results(best = True)"
   ],
   "outputs": []
  },
  {
   "cell_type": "code",
   "execution_count": 7,
   "id": "120479eaf30dbeab",
   "metadata": {
    "ExecuteTime": {
     "end_time": "2024-06-09T21:55:23.432531Z",
     "start_time": "2024-06-09T21:55:23.424347Z"
    }
   },
   "source": [
    "strategy.strategy_value[-1]"
   ],
   "outputs": []
  },
  {
   "cell_type": "markdown",
   "id": "aaee4860e286bbbd",
   "metadata": {},
   "source": [
    "We try the best indicators and best parameters in the Test dataset."
   ]
  },
  {
   "cell_type": "code",
   "execution_count": 8,
   "id": "84130ceb7641aa95",
   "metadata": {
    "ExecuteTime": {
     "end_time": "2024-06-09T21:56:09.722893Z",
     "start_time": "2024-06-09T21:55:34.764239Z"
    }
   },
   "source": [
    "strategy.test()"
   ],
   "outputs": []
  },
  {
   "cell_type": "markdown",
   "id": "d8063706e7ca6568",
   "metadata": {},
   "source": [
    "Final Value"
   ]
  },
  {
   "cell_type": "code",
   "execution_count": 9,
   "id": "439c5d2a2a37fde7",
   "metadata": {
    "ExecuteTime": {
     "end_time": "2024-06-09T21:56:30.874714Z",
     "start_time": "2024-06-09T21:56:30.869727Z"
    }
   },
   "source": [
    "strategy.strategy_value[-1]"
   ],
   "outputs": []
  },
  {
   "cell_type": "markdown",
   "id": "ad985c81a738c634",
   "metadata": {},
   "source": [
    "#### Trading Strategy vs Passive Strategy"
   ]
  },
  {
   "cell_type": "code",
   "execution_count": 26,
   "id": "69563e03b1b72198",
   "metadata": {
    "ExecuteTime": {
     "end_time": "2024-06-09T22:14:49.833844Z",
     "start_time": "2024-06-09T22:14:49.704252Z"
    }
   },
   "source": [
    "# Turn date into datetime\n",
    "data['Datetime'] = pd.to_datetime(data['Datetime'])\n",
    "\n",
    "# Get first and last close data\n",
    "primer_cierre = data.iloc[0]['Close']\n",
    "ultimo_cierre = data.iloc[-1]['Close']\n",
    "\n",
    "# Get asset yeild\n",
    "rend_pasivo = (ultimo_cierre - primer_cierre) / primer_cierre\n",
    "print(\"The passive asset return is: {:.2%}\".format(rend_pasivo))\n",
    "\n",
    "# Compare with used strategy\n",
    "cash=1000000\n",
    "cashfinal = 1348097.4477885822  # CHANGE !!!\n",
    "rend_estrategia = (cashfinal - cash) / cash\n",
    "print(\"The trading strategy return is: {:.2%}\".format(rend_estrategia))\n",
    "\n",
    "# Sort data\n",
    "data = data.sort_values(by='Datetime')\n",
    "\n",
    "# Rend\n",
    "data['Returns'] = data['Close'].pct_change().fillna(0)\n",
    "\n",
    "# See the value passive\n",
    "initial_investment = cash\n",
    "data['Investment_Value'] = (1 + data['Returns']).cumprod() * initial_investment\n",
    "\n",
    "# Graficar el rendimiento de la inversión\n",
    "plt.figure(figsize=(12, 8))\n",
    "plt.plot(data['Datetime'], data['Investment_Value'], label='Investment Value', color='blue')\n",
    "plt.title('Passive strategy')\n",
    "plt.xlabel('Date')\n",
    "plt.ylabel('Investment Value')\n",
    "plt.legend()\n",
    "plt.grid(True)\n",
    "plt.show()\n",
    "\n",
    "valor_final = data['Investment_Value'].iloc[-1]\n",
    "print(\"The final value of the investment: ${:,.2f}\".format(valor_final))"
   ],
   "outputs": []
  },
  {
   "cell_type": "markdown",
   "id": "ffdec1b70f3d48f1",
   "metadata": {},
   "source": [
    "#### Analysis Apple stock 5 minute intervals\n",
    "\n",
    "We can see that our trading strategy was better against a pasive strategy, using the Stochastic Oscillator with specific hyperparameters: a %K window of 16, a %D window of 5, and a smoothing factor of 6. \n",
    "\n",
    "Our active trading strategy achieved a significant return of 34.81%, compared to a mere 2.41% return from a passive investment approach over the same period. This stark difference highlights the potential benefits of using technical analysis and active trading strategies to navigate market conditions.\n",
    "\n",
    "The substantial outperformance of our strategy can be attributed to several key factors:\n",
    "\n",
    "Market Conditions and Adaptability: Apple’s stock experienced a downward trend from February to April. The Stochastic Oscillator, designed to identify overbought and oversold conditions, allowed us to make informed buy and sell decisions even in a bearish market. By actively trading based on these signals, we capitalized on short-term price movements that a passive strategy would have missed.\n",
    "\n",
    "Optimal Hyperparameters: The selected hyperparameters for the Stochastic Oscillator (%K window of 16, %D window of 5, and a smoothing factor of 6) were optimized to filter out market noise and provide more reliable signals. This fine-tuning was crucial for the strategy’s success, ensuring we entered and exited trades at optimal points.\n",
    "\n",
    "Risk Management: Active trading enabled better risk management. By setting appropriate stop-loss and take-profit levels, we mitigated potential losses and secured profits, further contributing to the higher overall return.\n",
    "\n",
    "The disposition effect refers to the tendency of investors to hold onto losing investments too long, hoping to avoid realizing a loss, and to sell winning investments too quickly to lock in gains. This behavioral bias can explain why some investors who opted for a passive strategy might have underperformed. Given Apple’s downward trend from February to April, passive investors may have held onto their positions, waiting for the stock to rebound, thereby missing opportunities to capitalize on short-term gains through active trading. Our strategy, on the other hand, systematically identified and acted on these opportunities, leading to significantly higher returns."
   ]
  }
 ],
 "metadata": {
  "kernelspec": {
   "display_name": "Python 3 (ipykernel)",
   "language": "python",
   "name": "python3"
  },
  "language_info": {
   "codemirror_mode": {
    "name": "ipython",
    "version": 3
   },
   "file_extension": ".py",
   "mimetype": "text/x-python",
   "name": "python",
   "nbconvert_exporter": "python",
   "pygments_lexer": "ipython3",
   "version": "3.11.3"
  }
 },
 "nbformat": 4,
 "nbformat_minor": 5
}
