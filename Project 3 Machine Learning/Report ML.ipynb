{
 "cells": [
  {
   "metadata": {},
   "cell_type": "markdown",
   "source": [
    "# Project Overview: Machine Learning\n",
    "\n",
    "In this Jupyter notebook, we explore the application of machine learning to the domain of trading, aiming to predict buy and sell signals. Machine learning (ML) is a subset of artificial intelligence (AI) that involves training algorithms on historical data to make predictions or decisions without being explicitly programmed for each specific task. In trading, ML can help identify patterns and make data-driven decisions to enhance trading strategies.\n",
    "\n",
    "## Machine Learning Models\n",
    "We will employ three machine learning models to predict trading signals: Logistic Regression, Support Vector Machine (SVM), and XGBoost. Each of these models has unique characteristics and strengths that make them suitable for different aspects of predictive modeling in trading.\n",
    "\n",
    "### Logistic Regression\n",
    "Logistic Regression is a statistical model that is commonly used for binary classification tasks. It models the probability that a given input belongs to a particular class. Despite its simplicity, Logistic Regression is powerful for problems where the relationship between the input features and the output can be approximated by a linear decision boundary. In the context of trading, Logistic Regression can help determine the likelihood of a price movement being upward or downward, thus indicating buy or sell signals.\n",
    "\n",
    "### Support Vector Machine (SVM)\n",
    "Support Vector Machine is a robust and versatile classification algorithm that aims to find the optimal hyperplane that best separates different classes in the feature space. SVM is particularly effective in high-dimensional spaces and when the classes are not linearly separable, thanks to its ability to use kernel functions. In trading, SVM can be used to classify market conditions or price movements, providing clear signals for buying or selling based on the patterns it learns from historical data.\n",
    "\n",
    "### XGBoost\n",
    "XGBoost (Extreme Gradient Boosting) is an advanced implementation of gradient boosting algorithms designed for speed and performance. It builds an ensemble of weak prediction models, typically decision trees, to create a strong overall model. XGBoost is known for its efficiency and accuracy, making it a popular choice for many machine learning competitions. In trading, XGBoost can capture complex patterns and interactions in the data, leading to highly accurate predictions for buy and sell signals.\n",
    "\n",
    "## Objective\n",
    "The primary goal of this notebook is to compare these three models—Logistic Regression, SVM, and XGBoost—to determine which one performs best in predicting buy and sell signals for trading. We will evaluate their performance based on various metrics and ultimately identify the model that provides the most reliable predictions.\n"
   ],
   "id": "dbc571b4b9118625"
  },
  {
   "metadata": {},
   "cell_type": "markdown",
   "source": "### Apple stock with 1 minute interval",
   "id": "fa7352331773327f"
  },
  {
   "metadata": {},
   "cell_type": "code",
   "outputs": [],
   "execution_count": null,
   "source": "",
   "id": "6a637bd00775f560"
  },
  {
   "metadata": {},
   "cell_type": "markdown",
   "source": "### Apple stock with 5 minutes intervals",
   "id": "5d1c4e40de5207c3"
  },
  {
   "metadata": {
    "ExecuteTime": {
     "end_time": "2024-06-13T19:10:41.777145Z",
     "start_time": "2024-06-13T19:10:41.764970Z"
    }
   },
   "cell_type": "code",
   "source": "from ML import Operation, TradingStrategy, BM",
   "id": "39ba53d69cfc8844",
   "outputs": [],
   "execution_count": 8
  },
  {
   "metadata": {
    "ExecuteTime": {
     "end_time": "2024-06-13T19:10:43.221019Z",
     "start_time": "2024-06-13T19:10:43.127221Z"
    }
   },
   "cell_type": "code",
   "source": [
    "strategy = TradingStrategy('A5')\n",
    "strategy.optimize_and_fit_models()"
   ],
   "id": "e029f704dab40ef0",
   "outputs": [
    {
     "name": "stdout",
     "output_type": "stream",
     "text": [
      "Unexpected exception formatting exception. Falling back to standard exception\n"
     ]
    },
    {
     "name": "stderr",
     "output_type": "stream",
     "text": [
      "Traceback (most recent call last):\n",
      "  File \"/Users/manureymon/anaconda3/lib/python3.11/site-packages/IPython/core/interactiveshell.py\", line 3505, in run_code\n",
      "    exec(code_obj, self.user_global_ns, self.user_ns)\n",
      "  File \"/var/folders/wj/b6dt49kj3313qhzh5368ss_c0000gn/T/ipykernel_67154/1027354026.py\", line 1, in <module>\n",
      "    strategy = TradingStrategy('A5')\n",
      "               ^^^^^^^^^^^^^^^^^^^^^\n",
      "  File \"/Users/manureymon/Documents/trading_project/Project 3 Machine Learning/ML.py\", line 43, in __init__\n",
      "  File \"/Users/manureymon/Documents/trading_project/Project 3 Machine Learning/ML.py\", line 67, in calculate_variables\n",
      "    self.data[\"RSI_11\"] = ta.momentum.rsi(self.data[\"Close\"], window=11)\n",
      "                             ^^^^^^^^^^^^^^^^^^^^^^^^^^^^^^^^^^^^^^^^^^^^\n",
      "TypeError: stochrsi_d() got an unexpected keyword argument 'smooth3'\n",
      "\n",
      "During handling of the above exception, another exception occurred:\n",
      "\n",
      "Traceback (most recent call last):\n",
      "  File \"/Users/manureymon/anaconda3/lib/python3.11/site-packages/IPython/core/interactiveshell.py\", line 2102, in showtraceback\n",
      "    stb = self.InteractiveTB.structured_traceback(\n",
      "          ^^^^^^^^^^^^^^^^^^^^^^^^^^^^^^^^^^^^^^^^\n",
      "  File \"/Users/manureymon/anaconda3/lib/python3.11/site-packages/IPython/core/ultratb.py\", line 1310, in structured_traceback\n",
      "    return FormattedTB.structured_traceback(\n",
      "           ^^^^^^^^^^^^^^^^^^^^^^^^^^^^^^^^^\n",
      "  File \"/Users/manureymon/anaconda3/lib/python3.11/site-packages/IPython/core/ultratb.py\", line 1199, in structured_traceback\n",
      "    return VerboseTB.structured_traceback(\n",
      "           ^^^^^^^^^^^^^^^^^^^^^^^^^^^^^^^\n",
      "  File \"/Users/manureymon/anaconda3/lib/python3.11/site-packages/IPython/core/ultratb.py\", line 1052, in structured_traceback\n",
      "    formatted_exception = self.format_exception_as_a_whole(etype, evalue, etb, number_of_lines_of_context,\n",
      "                          ^^^^^^^^^^^^^^^^^^^^^^^^^^^^^^^^^^^^^^^^^^^^^^^^^^^^^^^^^^^^^^^^^^^^^^^^^^^^^^^^\n",
      "  File \"/Users/manureymon/anaconda3/lib/python3.11/site-packages/IPython/core/ultratb.py\", line 978, in format_exception_as_a_whole\n",
      "    frames.append(self.format_record(record))\n",
      "                  ^^^^^^^^^^^^^^^^^^^^^^^^^^\n",
      "  File \"/Users/manureymon/anaconda3/lib/python3.11/site-packages/IPython/core/ultratb.py\", line 878, in format_record\n",
      "    frame_info.lines, Colors, self.has_colors, lvals\n",
      "    ^^^^^^^^^^^^^^^^\n",
      "  File \"/Users/manureymon/anaconda3/lib/python3.11/site-packages/IPython/core/ultratb.py\", line 712, in lines\n",
      "    return self._sd.lines\n",
      "           ^^^^^^^^^^^^^^\n",
      "  File \"/Users/manureymon/anaconda3/lib/python3.11/site-packages/stack_data/utils.py\", line 145, in cached_property_wrapper\n",
      "    value = obj.__dict__[self.func.__name__] = self.func(obj)\n",
      "                                               ^^^^^^^^^^^^^^\n",
      "  File \"/Users/manureymon/anaconda3/lib/python3.11/site-packages/stack_data/core.py\", line 698, in lines\n",
      "    pieces = self.included_pieces\n",
      "             ^^^^^^^^^^^^^^^^^^^^\n",
      "  File \"/Users/manureymon/anaconda3/lib/python3.11/site-packages/stack_data/utils.py\", line 145, in cached_property_wrapper\n",
      "    value = obj.__dict__[self.func.__name__] = self.func(obj)\n",
      "                                               ^^^^^^^^^^^^^^\n",
      "  File \"/Users/manureymon/anaconda3/lib/python3.11/site-packages/stack_data/core.py\", line 649, in included_pieces\n",
      "    pos = scope_pieces.index(self.executing_piece)\n",
      "                             ^^^^^^^^^^^^^^^^^^^^\n",
      "  File \"/Users/manureymon/anaconda3/lib/python3.11/site-packages/stack_data/utils.py\", line 145, in cached_property_wrapper\n",
      "    value = obj.__dict__[self.func.__name__] = self.func(obj)\n",
      "                                               ^^^^^^^^^^^^^^\n",
      "  File \"/Users/manureymon/anaconda3/lib/python3.11/site-packages/stack_data/core.py\", line 628, in executing_piece\n",
      "    return only(\n",
      "           ^^^^^\n",
      "  File \"/Users/manureymon/anaconda3/lib/python3.11/site-packages/executing/executing.py\", line 164, in only\n",
      "    raise NotOneValueFound('Expected one value, found 0')\n",
      "executing.executing.NotOneValueFound: Expected one value, found 0\n"
     ]
    }
   ],
   "execution_count": 9
  },
  {
   "metadata": {},
   "cell_type": "code",
   "outputs": [],
   "execution_count": null,
   "source": "",
   "id": "25c22de4fa58d4d1"
  }
 ],
 "metadata": {
  "kernelspec": {
   "display_name": "Python 3",
   "language": "python",
   "name": "python3"
  },
  "language_info": {
   "codemirror_mode": {
    "name": "ipython",
    "version": 2
   },
   "file_extension": ".py",
   "mimetype": "text/x-python",
   "name": "python",
   "nbconvert_exporter": "python",
   "pygments_lexer": "ipython2",
   "version": "2.7.6"
  }
 },
 "nbformat": 4,
 "nbformat_minor": 5
}
